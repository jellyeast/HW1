{
 "cells": [
  {
   "cell_type": "markdown",
   "metadata": {},
   "source": [
    "假設從 2010.01.01 開始，你每個月持續有 USD$1000 資金，"
   ]
  },
  {
   "cell_type": "markdown",
   "metadata": {},
   "source": [
    "(1) 你都不管它，只放在銀行，到了 2020.01.01 你的財產=?"
   ]
  },
  {
   "cell_type": "code",
   "execution_count": 49,
   "metadata": {},
   "outputs": [
    {
     "data": {
      "text/plain": [
       "155929.28894335806"
      ]
     },
     "execution_count": 49,
     "metadata": {},
     "output_type": "execute_result"
    }
   ],
   "source": [
    "#假設年利率為 5%  以每月複利一次計算\n",
    "bank_total=0\n",
    "for i in range(120):\n",
    "    bank_total=(bank_total+1000)*(1+(0.05/12))\n",
    "bank_total"
   ]
  },
  {
   "cell_type": "markdown",
   "metadata": {},
   "source": [
    "(2) 你固定選擇 Apple (AAPL) 公司作為買股票的對象，到了 2020.01.01 你的財產 =?"
   ]
  },
  {
   "cell_type": "code",
   "execution_count": 25,
   "metadata": {},
   "outputs": [
    {
     "data": {
      "text/html": [
       "<div>\n",
       "<style scoped>\n",
       "    .dataframe tbody tr th:only-of-type {\n",
       "        vertical-align: middle;\n",
       "    }\n",
       "\n",
       "    .dataframe tbody tr th {\n",
       "        vertical-align: top;\n",
       "    }\n",
       "\n",
       "    .dataframe thead th {\n",
       "        text-align: right;\n",
       "    }\n",
       "</style>\n",
       "<table border=\"1\" class=\"dataframe\">\n",
       "  <thead>\n",
       "    <tr style=\"text-align: right;\">\n",
       "      <th></th>\n",
       "      <th>Open</th>\n",
       "      <th>High</th>\n",
       "      <th>Low</th>\n",
       "      <th>Close</th>\n",
       "      <th>Adj Close</th>\n",
       "      <th>Volume</th>\n",
       "    </tr>\n",
       "    <tr>\n",
       "      <th>Date</th>\n",
       "      <th></th>\n",
       "      <th></th>\n",
       "      <th></th>\n",
       "      <th></th>\n",
       "      <th></th>\n",
       "      <th></th>\n",
       "    </tr>\n",
       "  </thead>\n",
       "  <tbody>\n",
       "    <tr>\n",
       "      <th>2010-01-01</th>\n",
       "      <td>7.622500</td>\n",
       "      <td>7.699643</td>\n",
       "      <td>6.794643</td>\n",
       "      <td>6.859286</td>\n",
       "      <td>5.898319</td>\n",
       "      <td>15168994400</td>\n",
       "    </tr>\n",
       "    <tr>\n",
       "      <th>2010-02-01</th>\n",
       "      <td>6.870357</td>\n",
       "      <td>7.327500</td>\n",
       "      <td>6.816071</td>\n",
       "      <td>7.307857</td>\n",
       "      <td>6.284047</td>\n",
       "      <td>10776080000</td>\n",
       "    </tr>\n",
       "    <tr>\n",
       "      <th>2010-03-01</th>\n",
       "      <td>7.348214</td>\n",
       "      <td>8.481429</td>\n",
       "      <td>7.337500</td>\n",
       "      <td>8.392857</td>\n",
       "      <td>7.217041</td>\n",
       "      <td>12154172800</td>\n",
       "    </tr>\n",
       "    <tr>\n",
       "      <th>2010-04-01</th>\n",
       "      <td>8.478929</td>\n",
       "      <td>9.730714</td>\n",
       "      <td>8.312500</td>\n",
       "      <td>9.324643</td>\n",
       "      <td>8.018287</td>\n",
       "      <td>12367129600</td>\n",
       "    </tr>\n",
       "    <tr>\n",
       "      <th>2010-05-01</th>\n",
       "      <td>9.422857</td>\n",
       "      <td>9.567143</td>\n",
       "      <td>7.116071</td>\n",
       "      <td>9.174286</td>\n",
       "      <td>7.888996</td>\n",
       "      <td>18082654800</td>\n",
       "    </tr>\n",
       "    <tr>\n",
       "      <th>...</th>\n",
       "      <td>...</td>\n",
       "      <td>...</td>\n",
       "      <td>...</td>\n",
       "      <td>...</td>\n",
       "      <td>...</td>\n",
       "      <td>...</td>\n",
       "    </tr>\n",
       "    <tr>\n",
       "      <th>2019-09-01</th>\n",
       "      <td>51.607498</td>\n",
       "      <td>56.605000</td>\n",
       "      <td>51.055000</td>\n",
       "      <td>55.992500</td>\n",
       "      <td>55.170628</td>\n",
       "      <td>2170268400</td>\n",
       "    </tr>\n",
       "    <tr>\n",
       "      <th>2019-10-01</th>\n",
       "      <td>56.267502</td>\n",
       "      <td>62.437500</td>\n",
       "      <td>53.782501</td>\n",
       "      <td>62.189999</td>\n",
       "      <td>61.277161</td>\n",
       "      <td>2433210800</td>\n",
       "    </tr>\n",
       "    <tr>\n",
       "      <th>2019-11-01</th>\n",
       "      <td>62.384998</td>\n",
       "      <td>67.000000</td>\n",
       "      <td>62.290001</td>\n",
       "      <td>66.812500</td>\n",
       "      <td>65.831795</td>\n",
       "      <td>1793326000</td>\n",
       "    </tr>\n",
       "    <tr>\n",
       "      <th>2019-12-01</th>\n",
       "      <td>66.817497</td>\n",
       "      <td>73.492500</td>\n",
       "      <td>64.072502</td>\n",
       "      <td>73.412498</td>\n",
       "      <td>72.552094</td>\n",
       "      <td>2388794800</td>\n",
       "    </tr>\n",
       "    <tr>\n",
       "      <th>2020-01-01</th>\n",
       "      <td>74.059998</td>\n",
       "      <td>81.962502</td>\n",
       "      <td>73.187500</td>\n",
       "      <td>77.377502</td>\n",
       "      <td>76.470634</td>\n",
       "      <td>2934370400</td>\n",
       "    </tr>\n",
       "  </tbody>\n",
       "</table>\n",
       "<p>121 rows × 6 columns</p>\n",
       "</div>"
      ],
      "text/plain": [
       "                 Open       High        Low      Close  Adj Close       Volume\n",
       "Date                                                                          \n",
       "2010-01-01   7.622500   7.699643   6.794643   6.859286   5.898319  15168994400\n",
       "2010-02-01   6.870357   7.327500   6.816071   7.307857   6.284047  10776080000\n",
       "2010-03-01   7.348214   8.481429   7.337500   8.392857   7.217041  12154172800\n",
       "2010-04-01   8.478929   9.730714   8.312500   9.324643   8.018287  12367129600\n",
       "2010-05-01   9.422857   9.567143   7.116071   9.174286   7.888996  18082654800\n",
       "...               ...        ...        ...        ...        ...          ...\n",
       "2019-09-01  51.607498  56.605000  51.055000  55.992500  55.170628   2170268400\n",
       "2019-10-01  56.267502  62.437500  53.782501  62.189999  61.277161   2433210800\n",
       "2019-11-01  62.384998  67.000000  62.290001  66.812500  65.831795   1793326000\n",
       "2019-12-01  66.817497  73.492500  64.072502  73.412498  72.552094   2388794800\n",
       "2020-01-01  74.059998  81.962502  73.187500  77.377502  76.470634   2934370400\n",
       "\n",
       "[121 rows x 6 columns]"
      ]
     },
     "execution_count": 25,
     "metadata": {},
     "output_type": "execute_result"
    }
   ],
   "source": [
    "import requests\n",
    "import numpy as np\n",
    "import pandas as pd\n",
    "url = \"https://query1.finance.yahoo.com/v7/finance/download/AAPL?period1=1262304000&period2=1577923200&interval=1mo&events=history&includeAdjustedClose=true\"\n",
    "response = requests.get(url)\n",
    "table = pd.read_csv(StringIO(response.text),index_col = \"Date\",parse_dates = [\"Date\"])\n",
    "table"
   ]
  },
  {
   "cell_type": "code",
   "execution_count": 48,
   "metadata": {},
   "outputs": [
    {
     "data": {
      "text/plain": [
       "444574.8362119078"
      ]
     },
     "execution_count": 48,
     "metadata": {},
     "output_type": "execute_result"
    }
   ],
   "source": [
    "stock = 0  \n",
    "stock_total = 0\n",
    "for i in table.Close:\n",
    "    month_buy = 1000 / i  \n",
    "    stock += month_buy\n",
    "Close_price = table.Close[-1] \n",
    "stock_total = Close_price * stock\n",
    "stock_total"
   ]
  }
 ],
 "metadata": {
  "kernelspec": {
   "display_name": "Python 3",
   "language": "python",
   "name": "python3"
  },
  "language_info": {
   "codemirror_mode": {
    "name": "ipython",
    "version": 3
   },
   "file_extension": ".py",
   "mimetype": "text/x-python",
   "name": "python",
   "nbconvert_exporter": "python",
   "pygments_lexer": "ipython3",
   "version": "3.8.5"
  }
 },
 "nbformat": 4,
 "nbformat_minor": 4
}
